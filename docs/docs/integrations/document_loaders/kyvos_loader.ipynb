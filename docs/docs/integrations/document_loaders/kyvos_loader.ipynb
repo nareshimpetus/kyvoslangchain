{
 "cells": [
  {
   "cell_type": "markdown",
   "id": "675f92c8",
   "metadata": {},
   "source": [
    "# Install below library"
   ]
  },
  {
   "cell_type": "code",
   "execution_count": 1,
   "id": "adba7a8f",
   "metadata": {},
   "outputs": [],
   "source": [
    "# !pip install langchain\n",
    "# !pip install jq\n",
    "# !pip install langchain_community"
   ]
  },
  {
   "cell_type": "markdown",
   "id": "c999767e",
   "metadata": {},
   "source": [
    "# Import Library"
   ]
  },
  {
   "cell_type": "code",
   "execution_count": 1,
   "id": "08f9c672",
   "metadata": {},
   "outputs": [],
   "source": [
    "from langchain_community.document_loaders.kyvos_loader import KyvosLoader\n",
    "import json\n",
    "import os"
   ]
  },
  {
   "cell_type": "markdown",
   "id": "a21daf5c",
   "metadata": {},
   "source": [
    "# Setup Your enviornment Variable"
   ]
  },
  {
   "cell_type": "code",
   "execution_count": 2,
   "id": "3b0f0bd8",
   "metadata": {},
   "outputs": [],
   "source": [
    "os.environ[\"KYVOS_USERNAME\"]=\"<username>\"\n",
    "os.environ[\"KYVOS_PASSWORD\"]=\"<password>\""
   ]
  },
  {
   "cell_type": "markdown",
   "id": "ca070417",
   "metadata": {},
   "source": [
    "# Query"
   ]
  },
  {
   "cell_type": "code",
   "execution_count": 3,
   "id": "c5e234ff",
   "metadata": {},
   "outputs": [],
   "source": [
    "limit=10\n",
    "query=f\"SELECT `a ssb technical performance 30b_v2`.`customer id` AS `customer id`, `a ssb technical performance 30b_v2`.`postal code` AS `postal code`, `a ssb technical performance 30b_v2`.`city` AS `city`, `a ssb technical performance 30b_v2`.`country` AS `country` FROM `ssb - manufacturing use case`.`a ssb technical performance 30b_v2` `a ssb technical performance 30b_v2` GROUP BY  `a ssb technical performance 30b_v2`.`customer id`, `a ssb technical performance 30b_v2`.`postal code`, `a ssb technical performance 30b_v2`.`city`, `a ssb technical performance 30b_v2`.`country` LIMIT {limit}\""
   ]
  },
  {
   "cell_type": "markdown",
   "id": "13e1bfa4",
   "metadata": {},
   "source": [
    "# Setting up configuration parametes for csv"
   ]
  },
  {
   "cell_type": "code",
   "execution_count": 4,
   "id": "51c8a708",
   "metadata": {},
   "outputs": [],
   "source": [
    "parsed_json={'login_url': 'https://trial.kyvosinsights.com/kyvos/rest/login',\n",
    "             'query_url': 'https://trial.kyvosinsights.com/kyvos/rest/export/query',\n",
    "             'query_type': 'SQL',\n",
    "             'output_format': 'csv',\n",
    "             'line_seperator': '%5Cr%5Cn',\n",
    "             'enclosed_by': \"'\",\n",
    "             'connector_type': 'Rest',\n",
    "             'zipped': 'false',\n",
    "             'include_header': 'true',\n",
    "             'kms': 'false',\n",
    "             'output_file_name':\"sample_data_1.csv\",\n",
    "             'header_accept': 'application/octet-stream',\n",
    "             'maxRows':1000000}"
   ]
  },
  {
   "cell_type": "code",
   "execution_count": 5,
   "id": "fda26039",
   "metadata": {},
   "outputs": [
    {
     "data": {
      "text/plain": [
       "[Document(page_content=\"'customer id': '18247','postal code': '380001','city': 'Ahmedabad','country': 'India'\", metadata={'file_name': 'sample_data_1.csv', 'row_no': 0}),\n",
       " Document(page_content=\"'customer id': '24010','postal code': '380001','city': 'Ahmedabad','country': 'India'\", metadata={'file_name': 'sample_data_1.csv', 'row_no': 1}),\n",
       " Document(page_content=\"'customer id': '41684','postal code': '380001','city': 'Ahmedabad','country': 'India'\", metadata={'file_name': 'sample_data_1.csv', 'row_no': 2}),\n",
       " Document(page_content=\"'customer id': '100220','postal code': '380001','city': 'Ahmedabad','country': 'India'\", metadata={'file_name': 'sample_data_1.csv', 'row_no': 3}),\n",
       " Document(page_content=\"'customer id': '102718','postal code': '380001','city': 'Ahmedabad','country': 'India'\", metadata={'file_name': 'sample_data_1.csv', 'row_no': 4}),\n",
       " Document(page_content=\"'customer id': '125275','postal code': '380001','city': 'Ahmedabad','country': 'India'\", metadata={'file_name': 'sample_data_1.csv', 'row_no': 5}),\n",
       " Document(page_content=\"'customer id': '168602','postal code': '380001','city': 'Ahmedabad','country': 'India'\", metadata={'file_name': 'sample_data_1.csv', 'row_no': 6}),\n",
       " Document(page_content=\"'customer id': '170690','postal code': '380001','city': 'Ahmedabad','country': 'India'\", metadata={'file_name': 'sample_data_1.csv', 'row_no': 7}),\n",
       " Document(page_content=\"'customer id': '206365','postal code': '380001','city': 'Ahmedabad','country': 'India'\", metadata={'file_name': 'sample_data_1.csv', 'row_no': 8}),\n",
       " Document(page_content=\"'customer id': '217568','postal code': '380001','city': 'Ahmedabad','country': 'India'\", metadata={'file_name': 'sample_data_1.csv', 'row_no': 9})]"
      ]
     },
     "execution_count": 5,
     "metadata": {},
     "output_type": "execute_result"
    }
   ],
   "source": [
    "loader_1 = KyvosLoader(configuration_parameters=parsed_json,query=query)\n",
    "res_1=loader_1.load()\n",
    "res_1"
   ]
  },
  {
   "cell_type": "code",
   "execution_count": 6,
   "id": "cda3492b",
   "metadata": {},
   "outputs": [
    {
     "data": {
      "text/plain": [
       "[Document(page_content=\"'customer id': '18247','postal code': '380001','city': 'Ahmedabad','country': 'India'\", metadata={'file_name': 'sample_data_1.csv', 'row_no': 0}),\n",
       " Document(page_content=\"'customer id': '24010','postal code': '380001','city': 'Ahmedabad','country': 'India'\", metadata={'file_name': 'sample_data_1.csv', 'row_no': 1}),\n",
       " Document(page_content=\"'customer id': '41684','postal code': '380001','city': 'Ahmedabad','country': 'India'\", metadata={'file_name': 'sample_data_1.csv', 'row_no': 2}),\n",
       " Document(page_content=\"'customer id': '100220','postal code': '380001','city': 'Ahmedabad','country': 'India'\", metadata={'file_name': 'sample_data_1.csv', 'row_no': 3}),\n",
       " Document(page_content=\"'customer id': '102718','postal code': '380001','city': 'Ahmedabad','country': 'India'\", metadata={'file_name': 'sample_data_1.csv', 'row_no': 4}),\n",
       " Document(page_content=\"'customer id': '125275','postal code': '380001','city': 'Ahmedabad','country': 'India'\", metadata={'file_name': 'sample_data_1.csv', 'row_no': 5}),\n",
       " Document(page_content=\"'customer id': '168602','postal code': '380001','city': 'Ahmedabad','country': 'India'\", metadata={'file_name': 'sample_data_1.csv', 'row_no': 6}),\n",
       " Document(page_content=\"'customer id': '170690','postal code': '380001','city': 'Ahmedabad','country': 'India'\", metadata={'file_name': 'sample_data_1.csv', 'row_no': 7}),\n",
       " Document(page_content=\"'customer id': '206365','postal code': '380001','city': 'Ahmedabad','country': 'India'\", metadata={'file_name': 'sample_data_1.csv', 'row_no': 8}),\n",
       " Document(page_content=\"'customer id': '217568','postal code': '380001','city': 'Ahmedabad','country': 'India'\", metadata={'file_name': 'sample_data_1.csv', 'row_no': 9})]"
      ]
     },
     "execution_count": 6,
     "metadata": {},
     "output_type": "execute_result"
    }
   ],
   "source": [
    "res_2=loader_1.load_and_split()\n",
    "res_2"
   ]
  },
  {
   "cell_type": "code",
   "execution_count": 7,
   "id": "a353030b",
   "metadata": {},
   "outputs": [
    {
     "name": "stdout",
     "output_type": "stream",
     "text": [
      "page_content=\"'customer id': '18247','postal code': '380001','city': 'Ahmedabad','country': 'India'\" metadata={'file_name': 'sample_data_1.csv', 'row_no': 0}\n",
      "*******************************************************************************************************************************\n",
      "page_content=\"'customer id': '24010','postal code': '380001','city': 'Ahmedabad','country': 'India'\" metadata={'file_name': 'sample_data_1.csv', 'row_no': 1}\n",
      "*******************************************************************************************************************************\n",
      "page_content=\"'customer id': '41684','postal code': '380001','city': 'Ahmedabad','country': 'India'\" metadata={'file_name': 'sample_data_1.csv', 'row_no': 2}\n",
      "*******************************************************************************************************************************\n",
      "page_content=\"'customer id': '100220','postal code': '380001','city': 'Ahmedabad','country': 'India'\" metadata={'file_name': 'sample_data_1.csv', 'row_no': 3}\n",
      "*******************************************************************************************************************************\n",
      "page_content=\"'customer id': '102718','postal code': '380001','city': 'Ahmedabad','country': 'India'\" metadata={'file_name': 'sample_data_1.csv', 'row_no': 4}\n",
      "*******************************************************************************************************************************\n",
      "page_content=\"'customer id': '125275','postal code': '380001','city': 'Ahmedabad','country': 'India'\" metadata={'file_name': 'sample_data_1.csv', 'row_no': 5}\n",
      "*******************************************************************************************************************************\n",
      "page_content=\"'customer id': '168602','postal code': '380001','city': 'Ahmedabad','country': 'India'\" metadata={'file_name': 'sample_data_1.csv', 'row_no': 6}\n",
      "*******************************************************************************************************************************\n",
      "page_content=\"'customer id': '170690','postal code': '380001','city': 'Ahmedabad','country': 'India'\" metadata={'file_name': 'sample_data_1.csv', 'row_no': 7}\n",
      "*******************************************************************************************************************************\n",
      "page_content=\"'customer id': '206365','postal code': '380001','city': 'Ahmedabad','country': 'India'\" metadata={'file_name': 'sample_data_1.csv', 'row_no': 8}\n",
      "*******************************************************************************************************************************\n",
      "page_content=\"'customer id': '217568','postal code': '380001','city': 'Ahmedabad','country': 'India'\" metadata={'file_name': 'sample_data_1.csv', 'row_no': 9}\n",
      "*******************************************************************************************************************************\n"
     ]
    }
   ],
   "source": [
    "res_3=loader_1.lazy_load()\n",
    "for i in res_3:\n",
    "    print(i)\n",
    "    print(\"*\"*127)"
   ]
  },
  {
   "cell_type": "markdown",
   "id": "22db9d20",
   "metadata": {},
   "source": [
    "# Setting up configuration parametes for json"
   ]
  },
  {
   "cell_type": "code",
   "execution_count": 8,
   "id": "b3223c3b",
   "metadata": {},
   "outputs": [],
   "source": [
    "parsed_json={'login_url': 'https://trial.kyvosinsights.com/kyvos/rest/login',\n",
    "             'query_url': 'https://trial.kyvosinsights.com/kyvos/rest/export/query',\n",
    "             'query_type': 'SQL',\n",
    "             'output_format': 'json',\n",
    "             'line_seperator': '%5Cr%5Cn',\n",
    "             'enclosed_by': \"'\",\n",
    "             'connector_type': 'Rest',\n",
    "             'zipped': 'false',\n",
    "             'include_header': 'true',\n",
    "             'kms': 'false',\n",
    "             'output_file_name':\"sample_data_2.json\",\n",
    "             'header_accept': 'application/octet-stream',\n",
    "             'maxRows':1000000}"
   ]
  },
  {
   "cell_type": "code",
   "execution_count": 9,
   "id": "eeacd13a",
   "metadata": {},
   "outputs": [
    {
     "data": {
      "text/plain": [
       "[Document(page_content=\"{'columns': [{'caption': 'customer id', 'type': 'BIGINT'}, {'caption': 'postal code', 'type': 'STRING'}, {'caption': 'city', 'type': 'STRING'}, {'caption': 'country', 'type': 'STRING'}], 'misc': {'sortInfo': {}}}\", metadata={'file_name': 'sample_data_2.json', 'row_no': 1}),\n",
       " Document(page_content=\"[18247, '380001', 'Ahmedabad', 'India']\", metadata={'file_name': 'sample_data_2.json', 'row_no': 2}),\n",
       " Document(page_content=\"[24010, '380001', 'Ahmedabad', 'India']\", metadata={'file_name': 'sample_data_2.json', 'row_no': 3}),\n",
       " Document(page_content=\"[41684, '380001', 'Ahmedabad', 'India']\", metadata={'file_name': 'sample_data_2.json', 'row_no': 4}),\n",
       " Document(page_content=\"[100220, '380001', 'Ahmedabad', 'India']\", metadata={'file_name': 'sample_data_2.json', 'row_no': 5}),\n",
       " Document(page_content=\"[102718, '380001', 'Ahmedabad', 'India']\", metadata={'file_name': 'sample_data_2.json', 'row_no': 6}),\n",
       " Document(page_content=\"[125275, '380001', 'Ahmedabad', 'India']\", metadata={'file_name': 'sample_data_2.json', 'row_no': 7}),\n",
       " Document(page_content=\"[168602, '380001', 'Ahmedabad', 'India']\", metadata={'file_name': 'sample_data_2.json', 'row_no': 8}),\n",
       " Document(page_content=\"[170690, '380001', 'Ahmedabad', 'India']\", metadata={'file_name': 'sample_data_2.json', 'row_no': 9}),\n",
       " Document(page_content=\"[206365, '380001', 'Ahmedabad', 'India']\", metadata={'file_name': 'sample_data_2.json', 'row_no': 10}),\n",
       " Document(page_content=\"[217568, '380001', 'Ahmedabad', 'India']\", metadata={'file_name': 'sample_data_2.json', 'row_no': 11})]"
      ]
     },
     "execution_count": 9,
     "metadata": {},
     "output_type": "execute_result"
    }
   ],
   "source": [
    "loader_2 = KyvosLoader(configuration_parameters=parsed_json,query=query)\n",
    "res_1=loader_2.load()\n",
    "res_1"
   ]
  },
  {
   "cell_type": "code",
   "execution_count": 10,
   "id": "6c15dda2",
   "metadata": {},
   "outputs": [
    {
     "data": {
      "text/plain": [
       "[Document(page_content=\"{'columns': [{'caption': 'customer id', 'type': 'BIGINT'}, {'caption': 'postal code', 'type': 'STRING'}, {'caption': 'city', 'type': 'STRING'}, {'caption': 'country', 'type': 'STRING'}], 'misc': {'sortInfo': {}}}\", metadata={'file_name': 'sample_data_2.json', 'row_no': 1}),\n",
       " Document(page_content=\"[18247, '380001', 'Ahmedabad', 'India']\", metadata={'file_name': 'sample_data_2.json', 'row_no': 2}),\n",
       " Document(page_content=\"[24010, '380001', 'Ahmedabad', 'India']\", metadata={'file_name': 'sample_data_2.json', 'row_no': 3}),\n",
       " Document(page_content=\"[41684, '380001', 'Ahmedabad', 'India']\", metadata={'file_name': 'sample_data_2.json', 'row_no': 4}),\n",
       " Document(page_content=\"[100220, '380001', 'Ahmedabad', 'India']\", metadata={'file_name': 'sample_data_2.json', 'row_no': 5}),\n",
       " Document(page_content=\"[102718, '380001', 'Ahmedabad', 'India']\", metadata={'file_name': 'sample_data_2.json', 'row_no': 6}),\n",
       " Document(page_content=\"[125275, '380001', 'Ahmedabad', 'India']\", metadata={'file_name': 'sample_data_2.json', 'row_no': 7}),\n",
       " Document(page_content=\"[168602, '380001', 'Ahmedabad', 'India']\", metadata={'file_name': 'sample_data_2.json', 'row_no': 8}),\n",
       " Document(page_content=\"[170690, '380001', 'Ahmedabad', 'India']\", metadata={'file_name': 'sample_data_2.json', 'row_no': 9}),\n",
       " Document(page_content=\"[206365, '380001', 'Ahmedabad', 'India']\", metadata={'file_name': 'sample_data_2.json', 'row_no': 10}),\n",
       " Document(page_content=\"[217568, '380001', 'Ahmedabad', 'India']\", metadata={'file_name': 'sample_data_2.json', 'row_no': 11})]"
      ]
     },
     "execution_count": 10,
     "metadata": {},
     "output_type": "execute_result"
    }
   ],
   "source": [
    "loader_2 = KyvosLoader(configuration_parameters=parsed_json,query=query)\n",
    "res_2=loader_2.load_and_split()\n",
    "res_2"
   ]
  },
  {
   "cell_type": "code",
   "execution_count": 11,
   "id": "692e9cac",
   "metadata": {},
   "outputs": [
    {
     "name": "stdout",
     "output_type": "stream",
     "text": [
      "page_content=\"{'columns': [{'caption': 'customer id', 'type': 'BIGINT'}, {'caption': 'postal code', 'type': 'STRING'}, {'caption': 'city', 'type': 'STRING'}, {'caption': 'country', 'type': 'STRING'}], 'misc': {'sortInfo': {}}}\" metadata={'file_name': 'sample_data_2.json', 'row_no': 1}\n",
      "*******************************************************************************************************************************\n",
      "page_content=\"[18247, '380001', 'Ahmedabad', 'India']\" metadata={'file_name': 'sample_data_2.json', 'row_no': 2}\n",
      "*******************************************************************************************************************************\n",
      "page_content=\"[24010, '380001', 'Ahmedabad', 'India']\" metadata={'file_name': 'sample_data_2.json', 'row_no': 3}\n",
      "*******************************************************************************************************************************\n",
      "page_content=\"[41684, '380001', 'Ahmedabad', 'India']\" metadata={'file_name': 'sample_data_2.json', 'row_no': 4}\n",
      "*******************************************************************************************************************************\n",
      "page_content=\"[100220, '380001', 'Ahmedabad', 'India']\" metadata={'file_name': 'sample_data_2.json', 'row_no': 5}\n",
      "*******************************************************************************************************************************\n",
      "page_content=\"[102718, '380001', 'Ahmedabad', 'India']\" metadata={'file_name': 'sample_data_2.json', 'row_no': 6}\n",
      "*******************************************************************************************************************************\n",
      "page_content=\"[125275, '380001', 'Ahmedabad', 'India']\" metadata={'file_name': 'sample_data_2.json', 'row_no': 7}\n",
      "*******************************************************************************************************************************\n",
      "page_content=\"[168602, '380001', 'Ahmedabad', 'India']\" metadata={'file_name': 'sample_data_2.json', 'row_no': 8}\n",
      "*******************************************************************************************************************************\n",
      "page_content=\"[170690, '380001', 'Ahmedabad', 'India']\" metadata={'file_name': 'sample_data_2.json', 'row_no': 9}\n",
      "*******************************************************************************************************************************\n",
      "page_content=\"[206365, '380001', 'Ahmedabad', 'India']\" metadata={'file_name': 'sample_data_2.json', 'row_no': 10}\n",
      "*******************************************************************************************************************************\n",
      "page_content=\"[217568, '380001', 'Ahmedabad', 'India']\" metadata={'file_name': 'sample_data_2.json', 'row_no': 11}\n",
      "*******************************************************************************************************************************\n"
     ]
    }
   ],
   "source": [
    "loader_2 = KyvosLoader(configuration_parameters=parsed_json,query=query)\n",
    "res_3= loader_2.lazy_load()\n",
    "for i in res_3:\n",
    "    print(i)\n",
    "    print(\"*\"*127)"
   ]
  },
  {
   "cell_type": "code",
   "execution_count": null,
   "id": "3f464500",
   "metadata": {},
   "outputs": [],
   "source": []
  }
 ],
 "metadata": {
  "kernelspec": {
   "display_name": "conda_python3",
   "language": "python",
   "name": "conda_python3"
  },
  "language_info": {
   "codemirror_mode": {
    "name": "ipython",
    "version": 3
   },
   "file_extension": ".py",
   "mimetype": "text/x-python",
   "name": "python",
   "nbconvert_exporter": "python",
   "pygments_lexer": "ipython3",
   "version": "3.10.14"
  }
 },
 "nbformat": 4,
 "nbformat_minor": 5
}
